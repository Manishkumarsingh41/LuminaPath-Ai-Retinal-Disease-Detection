{
  "nbformat": 4,
  "nbformat_minor": 0,
  "metadata": {
    "colab": {
      "provenance": [],
      "gpuType": "T4",
      "authorship_tag": "ABX9TyNnu3yAWlTGog71cU4EW5lL",
      "include_colab_link": true
    },
    "kernelspec": {
      "name": "python3",
      "display_name": "Python 3"
    },
    "language_info": {
      "name": "python"
    },
    "accelerator": "GPU"
  },
  "cells": [
    {
      "cell_type": "markdown",
      "metadata": {
        "id": "view-in-github",
        "colab_type": "text"
      },
      "source": [
        "<a href=\"https://colab.research.google.com/github/Manishkumarsingh41/LuminaPath-Ai-Retinal-Disease-Detection/blob/main/Traning_Retinal_Disease_Detection_model.ipynb\" target=\"_parent\"><img src=\"https://colab.research.google.com/assets/colab-badge.svg\" alt=\"Open In Colab\"/></a>"
      ]
    },
    {
      "cell_type": "code",
      "execution_count": null,
      "metadata": {
        "colab": {
          "base_uri": "https://localhost:8080/"
        },
        "id": "Zf6JGjeOIb38",
        "outputId": "55715fb8-8b91-45b7-e69d-9056e5c785e0"
      },
      "outputs": [
        {
          "output_type": "stream",
          "name": "stdout",
          "text": [
            "Mounted at /content/drive\n"
          ]
        }
      ],
      "source": [
        "from google.colab import drive\n",
        "drive.mount('/content/drive')\n"
      ]
    },
    {
      "cell_type": "code",
      "source": [
        "from google.colab import files\n",
        "files.upload()  # select kaggle.json\n"
      ],
      "metadata": {
        "colab": {
          "base_uri": "https://localhost:8080/",
          "height": 91
        },
        "id": "mNilszL1Pchc",
        "outputId": "8b959521-ad94-413c-b00d-1684d22167c3"
      },
      "execution_count": null,
      "outputs": [
        {
          "output_type": "display_data",
          "data": {
            "text/plain": [
              "<IPython.core.display.HTML object>"
            ],
            "text/html": [
              "\n",
              "     <input type=\"file\" id=\"files-9ae9e8f7-6ab9-4f05-8108-b7b730a70c4b\" name=\"files[]\" multiple disabled\n",
              "        style=\"border:none\" />\n",
              "     <output id=\"result-9ae9e8f7-6ab9-4f05-8108-b7b730a70c4b\">\n",
              "      Upload widget is only available when the cell has been executed in the\n",
              "      current browser session. Please rerun this cell to enable.\n",
              "      </output>\n",
              "      <script>// Copyright 2017 Google LLC\n",
              "//\n",
              "// Licensed under the Apache License, Version 2.0 (the \"License\");\n",
              "// you may not use this file except in compliance with the License.\n",
              "// You may obtain a copy of the License at\n",
              "//\n",
              "//      http://www.apache.org/licenses/LICENSE-2.0\n",
              "//\n",
              "// Unless required by applicable law or agreed to in writing, software\n",
              "// distributed under the License is distributed on an \"AS IS\" BASIS,\n",
              "// WITHOUT WARRANTIES OR CONDITIONS OF ANY KIND, either express or implied.\n",
              "// See the License for the specific language governing permissions and\n",
              "// limitations under the License.\n",
              "\n",
              "/**\n",
              " * @fileoverview Helpers for google.colab Python module.\n",
              " */\n",
              "(function(scope) {\n",
              "function span(text, styleAttributes = {}) {\n",
              "  const element = document.createElement('span');\n",
              "  element.textContent = text;\n",
              "  for (const key of Object.keys(styleAttributes)) {\n",
              "    element.style[key] = styleAttributes[key];\n",
              "  }\n",
              "  return element;\n",
              "}\n",
              "\n",
              "// Max number of bytes which will be uploaded at a time.\n",
              "const MAX_PAYLOAD_SIZE = 100 * 1024;\n",
              "\n",
              "function _uploadFiles(inputId, outputId) {\n",
              "  const steps = uploadFilesStep(inputId, outputId);\n",
              "  const outputElement = document.getElementById(outputId);\n",
              "  // Cache steps on the outputElement to make it available for the next call\n",
              "  // to uploadFilesContinue from Python.\n",
              "  outputElement.steps = steps;\n",
              "\n",
              "  return _uploadFilesContinue(outputId);\n",
              "}\n",
              "\n",
              "// This is roughly an async generator (not supported in the browser yet),\n",
              "// where there are multiple asynchronous steps and the Python side is going\n",
              "// to poll for completion of each step.\n",
              "// This uses a Promise to block the python side on completion of each step,\n",
              "// then passes the result of the previous step as the input to the next step.\n",
              "function _uploadFilesContinue(outputId) {\n",
              "  const outputElement = document.getElementById(outputId);\n",
              "  const steps = outputElement.steps;\n",
              "\n",
              "  const next = steps.next(outputElement.lastPromiseValue);\n",
              "  return Promise.resolve(next.value.promise).then((value) => {\n",
              "    // Cache the last promise value to make it available to the next\n",
              "    // step of the generator.\n",
              "    outputElement.lastPromiseValue = value;\n",
              "    return next.value.response;\n",
              "  });\n",
              "}\n",
              "\n",
              "/**\n",
              " * Generator function which is called between each async step of the upload\n",
              " * process.\n",
              " * @param {string} inputId Element ID of the input file picker element.\n",
              " * @param {string} outputId Element ID of the output display.\n",
              " * @return {!Iterable<!Object>} Iterable of next steps.\n",
              " */\n",
              "function* uploadFilesStep(inputId, outputId) {\n",
              "  const inputElement = document.getElementById(inputId);\n",
              "  inputElement.disabled = false;\n",
              "\n",
              "  const outputElement = document.getElementById(outputId);\n",
              "  outputElement.innerHTML = '';\n",
              "\n",
              "  const pickedPromise = new Promise((resolve) => {\n",
              "    inputElement.addEventListener('change', (e) => {\n",
              "      resolve(e.target.files);\n",
              "    });\n",
              "  });\n",
              "\n",
              "  const cancel = document.createElement('button');\n",
              "  inputElement.parentElement.appendChild(cancel);\n",
              "  cancel.textContent = 'Cancel upload';\n",
              "  const cancelPromise = new Promise((resolve) => {\n",
              "    cancel.onclick = () => {\n",
              "      resolve(null);\n",
              "    };\n",
              "  });\n",
              "\n",
              "  // Wait for the user to pick the files.\n",
              "  const files = yield {\n",
              "    promise: Promise.race([pickedPromise, cancelPromise]),\n",
              "    response: {\n",
              "      action: 'starting',\n",
              "    }\n",
              "  };\n",
              "\n",
              "  cancel.remove();\n",
              "\n",
              "  // Disable the input element since further picks are not allowed.\n",
              "  inputElement.disabled = true;\n",
              "\n",
              "  if (!files) {\n",
              "    return {\n",
              "      response: {\n",
              "        action: 'complete',\n",
              "      }\n",
              "    };\n",
              "  }\n",
              "\n",
              "  for (const file of files) {\n",
              "    const li = document.createElement('li');\n",
              "    li.append(span(file.name, {fontWeight: 'bold'}));\n",
              "    li.append(span(\n",
              "        `(${file.type || 'n/a'}) - ${file.size} bytes, ` +\n",
              "        `last modified: ${\n",
              "            file.lastModifiedDate ? file.lastModifiedDate.toLocaleDateString() :\n",
              "                                    'n/a'} - `));\n",
              "    const percent = span('0% done');\n",
              "    li.appendChild(percent);\n",
              "\n",
              "    outputElement.appendChild(li);\n",
              "\n",
              "    const fileDataPromise = new Promise((resolve) => {\n",
              "      const reader = new FileReader();\n",
              "      reader.onload = (e) => {\n",
              "        resolve(e.target.result);\n",
              "      };\n",
              "      reader.readAsArrayBuffer(file);\n",
              "    });\n",
              "    // Wait for the data to be ready.\n",
              "    let fileData = yield {\n",
              "      promise: fileDataPromise,\n",
              "      response: {\n",
              "        action: 'continue',\n",
              "      }\n",
              "    };\n",
              "\n",
              "    // Use a chunked sending to avoid message size limits. See b/62115660.\n",
              "    let position = 0;\n",
              "    do {\n",
              "      const length = Math.min(fileData.byteLength - position, MAX_PAYLOAD_SIZE);\n",
              "      const chunk = new Uint8Array(fileData, position, length);\n",
              "      position += length;\n",
              "\n",
              "      const base64 = btoa(String.fromCharCode.apply(null, chunk));\n",
              "      yield {\n",
              "        response: {\n",
              "          action: 'append',\n",
              "          file: file.name,\n",
              "          data: base64,\n",
              "        },\n",
              "      };\n",
              "\n",
              "      let percentDone = fileData.byteLength === 0 ?\n",
              "          100 :\n",
              "          Math.round((position / fileData.byteLength) * 100);\n",
              "      percent.textContent = `${percentDone}% done`;\n",
              "\n",
              "    } while (position < fileData.byteLength);\n",
              "  }\n",
              "\n",
              "  // All done.\n",
              "  yield {\n",
              "    response: {\n",
              "      action: 'complete',\n",
              "    }\n",
              "  };\n",
              "}\n",
              "\n",
              "scope.google = scope.google || {};\n",
              "scope.google.colab = scope.google.colab || {};\n",
              "scope.google.colab._files = {\n",
              "  _uploadFiles,\n",
              "  _uploadFilesContinue,\n",
              "};\n",
              "})(self);\n",
              "</script> "
            ]
          },
          "metadata": {}
        },
        {
          "output_type": "stream",
          "name": "stdout",
          "text": [
            "Saving kaggle.json to kaggle.json\n"
          ]
        },
        {
          "output_type": "execute_result",
          "data": {
            "text/plain": [
              "{'kaggle.json': b'{\"username\":\"manish5323\",\"key\":\"99d5ed95844b2bef07edccd40e3eec19\"}'}"
            ]
          },
          "metadata": {},
          "execution_count": 3
        }
      ]
    },
    {
      "cell_type": "code",
      "source": [
        "!pip install kaggle\n"
      ],
      "metadata": {
        "id": "abEBjY6GQACC",
        "colab": {
          "base_uri": "https://localhost:8080/"
        },
        "outputId": "fab624bb-d648-45e4-e857-fc69415357ac"
      },
      "execution_count": null,
      "outputs": [
        {
          "output_type": "stream",
          "name": "stdout",
          "text": [
            "Requirement already satisfied: kaggle in /usr/local/lib/python3.12/dist-packages (1.7.4.5)\n",
            "Requirement already satisfied: bleach in /usr/local/lib/python3.12/dist-packages (from kaggle) (6.2.0)\n",
            "Requirement already satisfied: certifi>=14.05.14 in /usr/local/lib/python3.12/dist-packages (from kaggle) (2025.8.3)\n",
            "Requirement already satisfied: charset-normalizer in /usr/local/lib/python3.12/dist-packages (from kaggle) (3.4.3)\n",
            "Requirement already satisfied: idna in /usr/local/lib/python3.12/dist-packages (from kaggle) (3.10)\n",
            "Requirement already satisfied: protobuf in /usr/local/lib/python3.12/dist-packages (from kaggle) (5.29.5)\n",
            "Requirement already satisfied: python-dateutil>=2.5.3 in /usr/local/lib/python3.12/dist-packages (from kaggle) (2.9.0.post0)\n",
            "Requirement already satisfied: python-slugify in /usr/local/lib/python3.12/dist-packages (from kaggle) (8.0.4)\n",
            "Requirement already satisfied: requests in /usr/local/lib/python3.12/dist-packages (from kaggle) (2.32.4)\n",
            "Requirement already satisfied: setuptools>=21.0.0 in /usr/local/lib/python3.12/dist-packages (from kaggle) (75.2.0)\n",
            "Requirement already satisfied: six>=1.10 in /usr/local/lib/python3.12/dist-packages (from kaggle) (1.17.0)\n",
            "Requirement already satisfied: text-unidecode in /usr/local/lib/python3.12/dist-packages (from kaggle) (1.3)\n",
            "Requirement already satisfied: tqdm in /usr/local/lib/python3.12/dist-packages (from kaggle) (4.67.1)\n",
            "Requirement already satisfied: urllib3>=1.15.1 in /usr/local/lib/python3.12/dist-packages (from kaggle) (2.5.0)\n",
            "Requirement already satisfied: webencodings in /usr/local/lib/python3.12/dist-packages (from kaggle) (0.5.1)\n"
          ]
        }
      ]
    },
    {
      "cell_type": "code",
      "source": [
        "import os\n",
        "os.makedirs(\"/root/.kaggle\", exist_ok=True)\n",
        "os.rename(\"kaggle.json\", \"/root/.kaggle/kaggle.json\")\n",
        "os.chmod(\"/root/.kaggle/kaggle.json\", 0o600)\n"
      ],
      "metadata": {
        "id": "GjYuWUSxUCC9"
      },
      "execution_count": null,
      "outputs": []
    },
    {
      "cell_type": "code",
      "source": [
        "!kaggle --version\n"
      ],
      "metadata": {
        "colab": {
          "base_uri": "https://localhost:8080/"
        },
        "id": "WhjwepBWUFcN",
        "outputId": "eeadb51a-7699-448b-ea02-2db16a4584bb"
      },
      "execution_count": null,
      "outputs": [
        {
          "output_type": "stream",
          "name": "stdout",
          "text": [
            "Kaggle API 1.7.4.5\n"
          ]
        }
      ]
    },
    {
      "cell_type": "code",
      "source": [
        "!kaggle datasets download -d obulisainaren/retinal-oct-c8\n"
      ],
      "metadata": {
        "colab": {
          "base_uri": "https://localhost:8080/"
        },
        "id": "w-ak0bnOEvb2",
        "outputId": "c409ffb1-bdfc-45de-a294-27a58872bc9d"
      },
      "execution_count": null,
      "outputs": [
        {
          "output_type": "stream",
          "name": "stdout",
          "text": [
            "Dataset URL: https://www.kaggle.com/datasets/obulisainaren/retinal-oct-c8\n",
            "License(s): CC-BY-NC-SA-4.0\n",
            "Downloading retinal-oct-c8.zip to /content\n",
            "100% 1.41G/1.42G [00:13<00:00, 197MB/s]\n",
            "100% 1.42G/1.42G [00:13<00:00, 110MB/s]\n"
          ]
        }
      ]
    },
    {
      "cell_type": "code",
      "source": [
        "!unzip -q retinal-oct-c8.zip -d /content/OCT_C8"
      ],
      "metadata": {
        "id": "SjMkzlQ5VHCm"
      },
      "execution_count": null,
      "outputs": []
    },
    {
      "cell_type": "code",
      "source": [
        "import os\n",
        "import shutil\n",
        "import random\n",
        "\n",
        "# Base dataset path\n",
        "base_dir = '/content/OCT_C8'"
      ],
      "metadata": {
        "id": "7FSFIKC7Tk_7"
      },
      "execution_count": null,
      "outputs": []
    },
    {
      "cell_type": "code",
      "source": [
        "# Create train/val folders\n",
        "train_dir = '/content/OCT_C8/train'\n",
        "val_dir = '/content/OCT_C8/val'\n",
        "os.makedirs(train_dir, exist_ok=True)\n",
        "os.makedirs(val_dir, exist_ok=True)\n"
      ],
      "metadata": {
        "id": "KHsPd_vtwYY9"
      },
      "execution_count": null,
      "outputs": []
    },
    {
      "cell_type": "code",
      "source": [
        "# List of classes\n",
        "classes = [cls for cls in os.listdir(base_dir) if os.path.isdir(os.path.join(base_dir, cls))]\n"
      ],
      "metadata": {
        "id": "Zzb6zjJGwajN"
      },
      "execution_count": null,
      "outputs": []
    },
    {
      "cell_type": "code",
      "source": [
        "\n",
        "# Create class folders inside train and val\n",
        "for cls in classes:\n",
        "    os.makedirs(os.path.join(train_dir, cls), exist_ok=True)\n",
        "    os.makedirs(os.path.join(val_dir, cls), exist_ok=True)"
      ],
      "metadata": {
        "id": "M-giFh7xwboE"
      },
      "execution_count": null,
      "outputs": []
    },
    {
      "cell_type": "code",
      "source": [
        "# Split images 80:20\n",
        "for cls in classes:\n",
        "    cls_path = os.path.join(base_dir, cls)\n",
        "    images = [img for img in os.listdir(cls_path) if img.endswith(('.png','.jpg','.jpeg'))]\n",
        "    random.shuffle(images)\n",
        "    split_idx = int(0.8 * len(images))\n",
        "    train_images = images[:split_idx]\n",
        "    val_images = images[split_idx:]\n",
        "\n",
        "    for img in train_images:\n",
        "        shutil.copy(os.path.join(cls_path, img), os.path.join(train_dir, cls, img))\n",
        "    for img in val_images:\n",
        "        shutil.copy(os.path.join(cls_path, img), os.path.join(val_dir, cls, img))\n",
        "\n",
        "print(\"Dataset successfully split into train (80%) and validation (20%)!\")"
      ],
      "metadata": {
        "colab": {
          "base_uri": "https://localhost:8080/"
        },
        "id": "kS7UkkZUwhCV",
        "outputId": "3dbcbbb3-598d-444c-b442-c89e525c07f1"
      },
      "execution_count": null,
      "outputs": [
        {
          "output_type": "stream",
          "name": "stdout",
          "text": [
            "Dataset successfully split into train (80%) and validation (20%)!\n"
          ]
        }
      ]
    },
    {
      "cell_type": "code",
      "source": [
        "import os\n",
        "import shutil\n",
        "import random\n",
        "\n",
        "base_dir = '/content/RetinalOCT_Dataset'\n",
        "\n",
        "# Create train and val directories\n",
        "train_dir = os.path.join(base_dir, 'train')\n",
        "val_dir = os.path.join(base_dir, 'val')\n",
        "os.makedirs(train_dir, exist_ok=True)\n",
        "os.makedirs(val_dir, exist_ok=True)\n",
        "\n",
        "# List class folders\n",
        "classes = [cls for cls in os.listdir(base_dir) if os.path.isdir(os.path.join(base_dir, cls)) and cls not in ['train','val']]\n",
        "\n",
        "# Split images 80:20 for each class\n",
        "for cls in classes:\n",
        "    cls_path = os.path.join(base_dir, cls)\n",
        "    images = [img for img in os.listdir(cls_path) if img.endswith(('.jpg','.jpeg','.png'))]\n",
        "    random.shuffle(images)\n",
        "    split_idx = int(0.8 * len(images))\n",
        "\n",
        "    # Create class folders in train/val\n",
        "    train_cls_dir = os.path.join(train_dir, cls)\n",
        "    val_cls_dir = os.path.join(val_dir, cls)\n",
        "    os.makedirs(train_cls_dir, exist_ok=True)\n",
        "    os.makedirs(val_cls_dir, exist_ok=True)\n",
        "\n",
        "    # Move images\n",
        "    for img in images[:split_idx]:\n",
        "        shutil.move(os.path.join(cls_path, img), os.path.join(train_cls_dir, img))\n",
        "    for img in images[split_idx:]:\n",
        "        shutil.move(os.path.join(cls_path, img), os.path.join(val_cls_dir, img))\n",
        "\n",
        "print(\"Images successfully moved to train/val folders.\")\n"
      ],
      "metadata": {
        "colab": {
          "base_uri": "https://localhost:8080/"
        },
        "id": "zS_TkHOPxU8j",
        "outputId": "7556adbd-d95c-4db5-e3ad-6c34b9cf713c"
      },
      "execution_count": null,
      "outputs": [
        {
          "output_type": "stream",
          "name": "stdout",
          "text": [
            "Images successfully moved to train/val folders.\n"
          ]
        }
      ]
    },
    {
      "cell_type": "code",
      "source": [
        "from tensorflow.keras.preprocessing.image import ImageDataGenerator\n",
        "\n",
        "# Paths\n",
        "train_dir = '/content/RetinalOCT_Dataset/train'\n",
        "val_dir = '/content/RetinalOCT_Dataset/val'\n",
        "\n",
        "# Data augmentation for training\n",
        "train_datagen = ImageDataGenerator(\n",
        "    rescale=1./255,\n",
        "    rotation_range=20,\n",
        "    width_shift_range=0.1,\n",
        "    height_shift_range=0.1,\n",
        "    zoom_range=0.1,\n",
        "    horizontal_flip=True\n",
        ")\n"
      ],
      "metadata": {
        "id": "tmx3HQ5bxiQU"
      },
      "execution_count": null,
      "outputs": []
    },
    {
      "cell_type": "code",
      "source": [
        "# Validation data just normalized\n",
        "val_datagen = ImageDataGenerator(rescale=1./255)\n",
        "\n",
        "# Create generators\n",
        "train_generator = train_datagen.flow_from_directory(\n",
        "    train_dir,\n",
        "    target_size=(224, 224),\n",
        "    batch_size=32,\n",
        "    class_mode='categorical'\n",
        ")\n",
        "\n",
        "val_generator = val_datagen.flow_from_directory(\n",
        "    val_dir,\n",
        "    target_size=(224, 224),\n",
        "    batch_size=32,\n",
        "    class_mode='categorical'\n",
        ")"
      ],
      "metadata": {
        "colab": {
          "base_uri": "https://localhost:8080/"
        },
        "id": "-RDlyTTQyynr",
        "outputId": "deff9c0c-68be-4a00-a0e5-e3bb7634e406"
      },
      "execution_count": null,
      "outputs": [
        {
          "output_type": "stream",
          "name": "stdout",
          "text": [
            "Found 18400 images belonging to 9 classes.\n",
            "Found 2800 images belonging to 9 classes.\n"
          ]
        }
      ]
    },
    {
      "cell_type": "code",
      "source": [
        "from tensorflow.keras.applications import InceptionV3\n",
        "from tensorflow.keras import layers, models\n",
        "from tensorflow.keras.optimizers import Adam"
      ],
      "metadata": {
        "id": "t313uxxIy5-D"
      },
      "execution_count": null,
      "outputs": []
    },
    {
      "cell_type": "code",
      "source": [
        "# Load pre-trained InceptionV3 without the top layer\n",
        "base_model = InceptionV3(weights='imagenet', include_top=False, input_shape=(224, 224, 3))\n",
        "base_model.trainable = False  # freeze base\n"
      ],
      "metadata": {
        "colab": {
          "base_uri": "https://localhost:8080/"
        },
        "id": "zUnDujH7zApC",
        "outputId": "579bd0b7-eb86-4ca3-982d-4d3589ac3f44"
      },
      "execution_count": null,
      "outputs": [
        {
          "output_type": "stream",
          "name": "stdout",
          "text": [
            "Downloading data from https://storage.googleapis.com/tensorflow/keras-applications/inception_v3/inception_v3_weights_tf_dim_ordering_tf_kernels_notop.h5\n",
            "\u001b[1m87910968/87910968\u001b[0m \u001b[32m━━━━━━━━━━━━━━━━━━━━\u001b[0m\u001b[37m\u001b[0m \u001b[1m1s\u001b[0m 0us/step\n"
          ]
        }
      ]
    },
    {
      "cell_type": "code",
      "source": [
        "\n",
        "# Build model on top\n",
        "model = models.Sequential([\n",
        "    base_model,\n",
        "    layers.GlobalAveragePooling2D(),\n",
        "    layers.Dense(1024, activation='relu'),\n",
        "    layers.Dropout(0.5),\n",
        "    layers.Dense(9, activation='softmax')  # 9 classes\n",
        "])\n",
        "\n",
        "# Compile model\n",
        "model.compile(optimizer=Adam(learning_rate=1e-4), loss='categorical_crossentropy', metrics=['accuracy'])\n",
        "\n",
        "# Train model\n",
        "history = model.fit(\n",
        "    train_generator,\n",
        "    steps_per_epoch=train_generator.samples // train_generator.batch_size,\n",
        "    validation_data=val_generator,\n",
        "    validation_steps=val_generator.samples // val_generator.batch_size,\n",
        "    epochs=10\n",
        ")"
      ],
      "metadata": {
        "colab": {
          "base_uri": "https://localhost:8080/"
        },
        "id": "bycCGYJgzGta",
        "outputId": "d56707fd-6e1f-4632-d556-6f4dc6fa7841"
      },
      "execution_count": null,
      "outputs": [
        {
          "metadata": {
            "tags": null
          },
          "name": "stderr",
          "output_type": "stream",
          "text": [
            "/usr/local/lib/python3.12/dist-packages/keras/src/trainers/data_adapters/py_dataset_adapter.py:121: UserWarning: Your `PyDataset` class should call `super().__init__(**kwargs)` in its constructor. `**kwargs` can include `workers`, `use_multiprocessing`, `max_queue_size`. Do not pass these arguments to `fit()`, as they will be ignored.\n",
            "  self._warn_if_super_not_called()\n"
          ]
        },
        {
          "output_type": "stream",
          "name": "stdout",
          "text": [
            "Epoch 1/10\n",
            "\u001b[1m575/575\u001b[0m \u001b[32m━━━━━━━━━━━━━━━━━━━━\u001b[0m\u001b[37m\u001b[0m \u001b[1m284s\u001b[0m 462ms/step - accuracy: 0.5087 - loss: 1.3848 - val_accuracy: 0.7755 - val_loss: 0.6765\n",
            "Epoch 2/10\n",
            "\u001b[1m575/575\u001b[0m \u001b[32m━━━━━━━━━━━━━━━━━━━━\u001b[0m\u001b[37m\u001b[0m \u001b[1m257s\u001b[0m 447ms/step - accuracy: 0.7265 - loss: 0.7520 - val_accuracy: 0.7892 - val_loss: 0.5840\n",
            "Epoch 3/10\n",
            "\u001b[1m575/575\u001b[0m \u001b[32m━━━━━━━━━━━━━━━━━━━━\u001b[0m\u001b[37m\u001b[0m \u001b[1m261s\u001b[0m 445ms/step - accuracy: 0.7714 - loss: 0.6321 - val_accuracy: 0.8193 - val_loss: 0.5170\n",
            "Epoch 4/10\n",
            "\u001b[1m575/575\u001b[0m \u001b[32m━━━━━━━━━━━━━━━━━━━━\u001b[0m\u001b[37m\u001b[0m \u001b[1m322s\u001b[0m 560ms/step - accuracy: 0.7911 - loss: 0.5705 - val_accuracy: 0.8247 - val_loss: 0.4832\n",
            "Epoch 5/10\n",
            "\u001b[1m575/575\u001b[0m \u001b[32m━━━━━━━━━━━━━━━━━━━━\u001b[0m\u001b[37m\u001b[0m \u001b[1m324s\u001b[0m 459ms/step - accuracy: 0.7950 - loss: 0.5600 - val_accuracy: 0.8244 - val_loss: 0.4859\n",
            "Epoch 6/10\n",
            "\u001b[1m575/575\u001b[0m \u001b[32m━━━━━━━━━━━━━━━━━━━━\u001b[0m\u001b[37m\u001b[0m \u001b[1m323s\u001b[0m 461ms/step - accuracy: 0.8109 - loss: 0.5099 - val_accuracy: 0.8294 - val_loss: 0.4725\n",
            "Epoch 7/10\n",
            "\u001b[1m575/575\u001b[0m \u001b[32m━━━━━━━━━━━━━━━━━━━━\u001b[0m\u001b[37m\u001b[0m \u001b[1m261s\u001b[0m 454ms/step - accuracy: 0.8196 - loss: 0.4907 - val_accuracy: 0.8229 - val_loss: 0.4668\n",
            "Epoch 8/10\n",
            "\u001b[1m575/575\u001b[0m \u001b[32m━━━━━━━━━━━━━━━━━━━━\u001b[0m\u001b[37m\u001b[0m \u001b[1m263s\u001b[0m 456ms/step - accuracy: 0.8204 - loss: 0.4811 - val_accuracy: 0.8362 - val_loss: 0.4366\n",
            "Epoch 9/10\n",
            "\u001b[1m575/575\u001b[0m \u001b[32m━━━━━━━━━━━━━━━━━━━━\u001b[0m\u001b[37m\u001b[0m \u001b[1m319s\u001b[0m 450ms/step - accuracy: 0.8316 - loss: 0.4557 - val_accuracy: 0.8481 - val_loss: 0.4139\n",
            "Epoch 10/10\n",
            "\u001b[1m575/575\u001b[0m \u001b[32m━━━━━━━━━━━━━━━━━━━━\u001b[0m\u001b[37m\u001b[0m \u001b[1m259s\u001b[0m 451ms/step - accuracy: 0.8278 - loss: 0.4591 - val_accuracy: 0.8517 - val_loss: 0.4108\n"
          ]
        }
      ]
    },
    {
      "cell_type": "code",
      "source": [
        "# Save the full model\n",
        "model.save('/content/Retinal_OCT_C8_model.h5')\n",
        "print(\"Model saved successfully!\")\n"
      ],
      "metadata": {
        "colab": {
          "base_uri": "https://localhost:8080/"
        },
        "id": "a9veo4h7Cn84",
        "outputId": "c520c8c6-a067-41de-aac5-d37499987cf6"
      },
      "execution_count": null,
      "outputs": [
        {
          "output_type": "stream",
          "name": "stderr",
          "text": [
            "WARNING:absl:You are saving your model as an HDF5 file via `model.save()` or `keras.saving.save_model(model)`. This file format is considered legacy. We recommend using instead the native Keras format, e.g. `model.save('my_model.keras')` or `keras.saving.save_model(model, 'my_model.keras')`. \n"
          ]
        },
        {
          "output_type": "stream",
          "name": "stdout",
          "text": [
            "Model saved successfully!\n"
          ]
        }
      ]
    },
    {
      "cell_type": "code",
      "source": [
        "from google.colab import files\n",
        "uploaded = files.upload()  # select retinal_cnn_model.h5\n"
      ],
      "metadata": {
        "colab": {
          "base_uri": "https://localhost:8080/",
          "height": 73
        },
        "id": "Eze_m3QXWjej",
        "outputId": "1420c7a0-20bc-4588-afd5-a3acbbaac408"
      },
      "execution_count": null,
      "outputs": [
        {
          "output_type": "display_data",
          "data": {
            "text/plain": [
              "<IPython.core.display.HTML object>"
            ],
            "text/html": [
              "\n",
              "     <input type=\"file\" id=\"files-d3931e24-58ad-41d8-889b-b9e9b68014a6\" name=\"files[]\" multiple disabled\n",
              "        style=\"border:none\" />\n",
              "     <output id=\"result-d3931e24-58ad-41d8-889b-b9e9b68014a6\">\n",
              "      Upload widget is only available when the cell has been executed in the\n",
              "      current browser session. Please rerun this cell to enable.\n",
              "      </output>\n",
              "      <script>// Copyright 2017 Google LLC\n",
              "//\n",
              "// Licensed under the Apache License, Version 2.0 (the \"License\");\n",
              "// you may not use this file except in compliance with the License.\n",
              "// You may obtain a copy of the License at\n",
              "//\n",
              "//      http://www.apache.org/licenses/LICENSE-2.0\n",
              "//\n",
              "// Unless required by applicable law or agreed to in writing, software\n",
              "// distributed under the License is distributed on an \"AS IS\" BASIS,\n",
              "// WITHOUT WARRANTIES OR CONDITIONS OF ANY KIND, either express or implied.\n",
              "// See the License for the specific language governing permissions and\n",
              "// limitations under the License.\n",
              "\n",
              "/**\n",
              " * @fileoverview Helpers for google.colab Python module.\n",
              " */\n",
              "(function(scope) {\n",
              "function span(text, styleAttributes = {}) {\n",
              "  const element = document.createElement('span');\n",
              "  element.textContent = text;\n",
              "  for (const key of Object.keys(styleAttributes)) {\n",
              "    element.style[key] = styleAttributes[key];\n",
              "  }\n",
              "  return element;\n",
              "}\n",
              "\n",
              "// Max number of bytes which will be uploaded at a time.\n",
              "const MAX_PAYLOAD_SIZE = 100 * 1024;\n",
              "\n",
              "function _uploadFiles(inputId, outputId) {\n",
              "  const steps = uploadFilesStep(inputId, outputId);\n",
              "  const outputElement = document.getElementById(outputId);\n",
              "  // Cache steps on the outputElement to make it available for the next call\n",
              "  // to uploadFilesContinue from Python.\n",
              "  outputElement.steps = steps;\n",
              "\n",
              "  return _uploadFilesContinue(outputId);\n",
              "}\n",
              "\n",
              "// This is roughly an async generator (not supported in the browser yet),\n",
              "// where there are multiple asynchronous steps and the Python side is going\n",
              "// to poll for completion of each step.\n",
              "// This uses a Promise to block the python side on completion of each step,\n",
              "// then passes the result of the previous step as the input to the next step.\n",
              "function _uploadFilesContinue(outputId) {\n",
              "  const outputElement = document.getElementById(outputId);\n",
              "  const steps = outputElement.steps;\n",
              "\n",
              "  const next = steps.next(outputElement.lastPromiseValue);\n",
              "  return Promise.resolve(next.value.promise).then((value) => {\n",
              "    // Cache the last promise value to make it available to the next\n",
              "    // step of the generator.\n",
              "    outputElement.lastPromiseValue = value;\n",
              "    return next.value.response;\n",
              "  });\n",
              "}\n",
              "\n",
              "/**\n",
              " * Generator function which is called between each async step of the upload\n",
              " * process.\n",
              " * @param {string} inputId Element ID of the input file picker element.\n",
              " * @param {string} outputId Element ID of the output display.\n",
              " * @return {!Iterable<!Object>} Iterable of next steps.\n",
              " */\n",
              "function* uploadFilesStep(inputId, outputId) {\n",
              "  const inputElement = document.getElementById(inputId);\n",
              "  inputElement.disabled = false;\n",
              "\n",
              "  const outputElement = document.getElementById(outputId);\n",
              "  outputElement.innerHTML = '';\n",
              "\n",
              "  const pickedPromise = new Promise((resolve) => {\n",
              "    inputElement.addEventListener('change', (e) => {\n",
              "      resolve(e.target.files);\n",
              "    });\n",
              "  });\n",
              "\n",
              "  const cancel = document.createElement('button');\n",
              "  inputElement.parentElement.appendChild(cancel);\n",
              "  cancel.textContent = 'Cancel upload';\n",
              "  const cancelPromise = new Promise((resolve) => {\n",
              "    cancel.onclick = () => {\n",
              "      resolve(null);\n",
              "    };\n",
              "  });\n",
              "\n",
              "  // Wait for the user to pick the files.\n",
              "  const files = yield {\n",
              "    promise: Promise.race([pickedPromise, cancelPromise]),\n",
              "    response: {\n",
              "      action: 'starting',\n",
              "    }\n",
              "  };\n",
              "\n",
              "  cancel.remove();\n",
              "\n",
              "  // Disable the input element since further picks are not allowed.\n",
              "  inputElement.disabled = true;\n",
              "\n",
              "  if (!files) {\n",
              "    return {\n",
              "      response: {\n",
              "        action: 'complete',\n",
              "      }\n",
              "    };\n",
              "  }\n",
              "\n",
              "  for (const file of files) {\n",
              "    const li = document.createElement('li');\n",
              "    li.append(span(file.name, {fontWeight: 'bold'}));\n",
              "    li.append(span(\n",
              "        `(${file.type || 'n/a'}) - ${file.size} bytes, ` +\n",
              "        `last modified: ${\n",
              "            file.lastModifiedDate ? file.lastModifiedDate.toLocaleDateString() :\n",
              "                                    'n/a'} - `));\n",
              "    const percent = span('0% done');\n",
              "    li.appendChild(percent);\n",
              "\n",
              "    outputElement.appendChild(li);\n",
              "\n",
              "    const fileDataPromise = new Promise((resolve) => {\n",
              "      const reader = new FileReader();\n",
              "      reader.onload = (e) => {\n",
              "        resolve(e.target.result);\n",
              "      };\n",
              "      reader.readAsArrayBuffer(file);\n",
              "    });\n",
              "    // Wait for the data to be ready.\n",
              "    let fileData = yield {\n",
              "      promise: fileDataPromise,\n",
              "      response: {\n",
              "        action: 'continue',\n",
              "      }\n",
              "    };\n",
              "\n",
              "    // Use a chunked sending to avoid message size limits. See b/62115660.\n",
              "    let position = 0;\n",
              "    do {\n",
              "      const length = Math.min(fileData.byteLength - position, MAX_PAYLOAD_SIZE);\n",
              "      const chunk = new Uint8Array(fileData, position, length);\n",
              "      position += length;\n",
              "\n",
              "      const base64 = btoa(String.fromCharCode.apply(null, chunk));\n",
              "      yield {\n",
              "        response: {\n",
              "          action: 'append',\n",
              "          file: file.name,\n",
              "          data: base64,\n",
              "        },\n",
              "      };\n",
              "\n",
              "      let percentDone = fileData.byteLength === 0 ?\n",
              "          100 :\n",
              "          Math.round((position / fileData.byteLength) * 100);\n",
              "      percent.textContent = `${percentDone}% done`;\n",
              "\n",
              "    } while (position < fileData.byteLength);\n",
              "  }\n",
              "\n",
              "  // All done.\n",
              "  yield {\n",
              "    response: {\n",
              "      action: 'complete',\n",
              "    }\n",
              "  };\n",
              "}\n",
              "\n",
              "scope.google = scope.google || {};\n",
              "scope.google.colab = scope.google.colab || {};\n",
              "scope.google.colab._files = {\n",
              "  _uploadFiles,\n",
              "  _uploadFilesContinue,\n",
              "};\n",
              "})(self);\n",
              "</script> "
            ]
          },
          "metadata": {}
        },
        {
          "output_type": "stream",
          "name": "stdout",
          "text": [
            "Saving Retinal_OCT_C8_model.h5 to Retinal_OCT_C8_model.h5\n"
          ]
        }
      ]
    },
    {
      "cell_type": "code",
      "source": [
        "import os\n",
        "\n",
        "# Make sure 'models' folder exists\n",
        "os.makedirs(\"models\", exist_ok=True)\n"
      ],
      "metadata": {
        "id": "Lza71nkAZNpp"
      },
      "execution_count": null,
      "outputs": []
    },
    {
      "cell_type": "code",
      "source": [
        "model.save(\"models/Retinal_OCT_C8_model.keras\")\n"
      ],
      "metadata": {
        "id": "uSGW392_ZQDJ"
      },
      "execution_count": null,
      "outputs": []
    },
    {
      "cell_type": "code",
      "source": [
        "model.save(\"models/Retinal_OCT_C8_model.h5\")\n"
      ],
      "metadata": {
        "colab": {
          "base_uri": "https://localhost:8080/"
        },
        "id": "2Ht1xuWhZTBR",
        "outputId": "06aa1332-7972-4730-e1a0-1ae137c01b82"
      },
      "execution_count": null,
      "outputs": [
        {
          "output_type": "stream",
          "name": "stderr",
          "text": [
            "WARNING:absl:You are saving your model as an HDF5 file via `model.save()` or `keras.saving.save_model(model)`. This file format is considered legacy. We recommend using instead the native Keras format, e.g. `model.save('my_model.keras')` or `keras.saving.save_model(model, 'my_model.keras')`. \n"
          ]
        }
      ]
    },
    {
      "cell_type": "code",
      "source": [
        "model.summary()\n"
      ],
      "metadata": {
        "colab": {
          "base_uri": "https://localhost:8080/",
          "height": 305
        },
        "id": "hPOtPfvMam7h",
        "outputId": "94f05816-1837-4397-88cb-e353cb365996"
      },
      "execution_count": null,
      "outputs": [
        {
          "output_type": "display_data",
          "data": {
            "text/plain": [
              "\u001b[1mModel: \"sequential\"\u001b[0m\n"
            ],
            "text/html": [
              "<pre style=\"white-space:pre;overflow-x:auto;line-height:normal;font-family:Menlo,'DejaVu Sans Mono',consolas,'Courier New',monospace\"><span style=\"font-weight: bold\">Model: \"sequential\"</span>\n",
              "</pre>\n"
            ]
          },
          "metadata": {}
        },
        {
          "output_type": "display_data",
          "data": {
            "text/plain": [
              "┏━━━━━━━━━━━━━━━━━━━━━━━━━━━━━━━━━┳━━━━━━━━━━━━━━━━━━━━━━━━┳━━━━━━━━━━━━━━━┓\n",
              "┃\u001b[1m \u001b[0m\u001b[1mLayer (type)                   \u001b[0m\u001b[1m \u001b[0m┃\u001b[1m \u001b[0m\u001b[1mOutput Shape          \u001b[0m\u001b[1m \u001b[0m┃\u001b[1m \u001b[0m\u001b[1m      Param #\u001b[0m\u001b[1m \u001b[0m┃\n",
              "┡━━━━━━━━━━━━━━━━━━━━━━━━━━━━━━━━━╇━━━━━━━━━━━━━━━━━━━━━━━━╇━━━━━━━━━━━━━━━┩\n",
              "│ inception_v3 (\u001b[38;5;33mFunctional\u001b[0m)       │ (\u001b[38;5;45mNone\u001b[0m, \u001b[38;5;34m5\u001b[0m, \u001b[38;5;34m5\u001b[0m, \u001b[38;5;34m2048\u001b[0m)     │    \u001b[38;5;34m21,802,784\u001b[0m │\n",
              "├─────────────────────────────────┼────────────────────────┼───────────────┤\n",
              "│ global_average_pooling2d        │ (\u001b[38;5;45mNone\u001b[0m, \u001b[38;5;34m2048\u001b[0m)           │             \u001b[38;5;34m0\u001b[0m │\n",
              "│ (\u001b[38;5;33mGlobalAveragePooling2D\u001b[0m)        │                        │               │\n",
              "├─────────────────────────────────┼────────────────────────┼───────────────┤\n",
              "│ dense (\u001b[38;5;33mDense\u001b[0m)                   │ (\u001b[38;5;45mNone\u001b[0m, \u001b[38;5;34m1024\u001b[0m)           │     \u001b[38;5;34m2,098,176\u001b[0m │\n",
              "├─────────────────────────────────┼────────────────────────┼───────────────┤\n",
              "│ dropout (\u001b[38;5;33mDropout\u001b[0m)               │ (\u001b[38;5;45mNone\u001b[0m, \u001b[38;5;34m1024\u001b[0m)           │             \u001b[38;5;34m0\u001b[0m │\n",
              "├─────────────────────────────────┼────────────────────────┼───────────────┤\n",
              "│ dense_1 (\u001b[38;5;33mDense\u001b[0m)                 │ (\u001b[38;5;45mNone\u001b[0m, \u001b[38;5;34m9\u001b[0m)              │         \u001b[38;5;34m9,225\u001b[0m │\n",
              "└─────────────────────────────────┴────────────────────────┴───────────────┘\n"
            ],
            "text/html": [
              "<pre style=\"white-space:pre;overflow-x:auto;line-height:normal;font-family:Menlo,'DejaVu Sans Mono',consolas,'Courier New',monospace\">┏━━━━━━━━━━━━━━━━━━━━━━━━━━━━━━━━━┳━━━━━━━━━━━━━━━━━━━━━━━━┳━━━━━━━━━━━━━━━┓\n",
              "┃<span style=\"font-weight: bold\"> Layer (type)                    </span>┃<span style=\"font-weight: bold\"> Output Shape           </span>┃<span style=\"font-weight: bold\">       Param # </span>┃\n",
              "┡━━━━━━━━━━━━━━━━━━━━━━━━━━━━━━━━━╇━━━━━━━━━━━━━━━━━━━━━━━━╇━━━━━━━━━━━━━━━┩\n",
              "│ inception_v3 (<span style=\"color: #0087ff; text-decoration-color: #0087ff\">Functional</span>)       │ (<span style=\"color: #00d7ff; text-decoration-color: #00d7ff\">None</span>, <span style=\"color: #00af00; text-decoration-color: #00af00\">5</span>, <span style=\"color: #00af00; text-decoration-color: #00af00\">5</span>, <span style=\"color: #00af00; text-decoration-color: #00af00\">2048</span>)     │    <span style=\"color: #00af00; text-decoration-color: #00af00\">21,802,784</span> │\n",
              "├─────────────────────────────────┼────────────────────────┼───────────────┤\n",
              "│ global_average_pooling2d        │ (<span style=\"color: #00d7ff; text-decoration-color: #00d7ff\">None</span>, <span style=\"color: #00af00; text-decoration-color: #00af00\">2048</span>)           │             <span style=\"color: #00af00; text-decoration-color: #00af00\">0</span> │\n",
              "│ (<span style=\"color: #0087ff; text-decoration-color: #0087ff\">GlobalAveragePooling2D</span>)        │                        │               │\n",
              "├─────────────────────────────────┼────────────────────────┼───────────────┤\n",
              "│ dense (<span style=\"color: #0087ff; text-decoration-color: #0087ff\">Dense</span>)                   │ (<span style=\"color: #00d7ff; text-decoration-color: #00d7ff\">None</span>, <span style=\"color: #00af00; text-decoration-color: #00af00\">1024</span>)           │     <span style=\"color: #00af00; text-decoration-color: #00af00\">2,098,176</span> │\n",
              "├─────────────────────────────────┼────────────────────────┼───────────────┤\n",
              "│ dropout (<span style=\"color: #0087ff; text-decoration-color: #0087ff\">Dropout</span>)               │ (<span style=\"color: #00d7ff; text-decoration-color: #00d7ff\">None</span>, <span style=\"color: #00af00; text-decoration-color: #00af00\">1024</span>)           │             <span style=\"color: #00af00; text-decoration-color: #00af00\">0</span> │\n",
              "├─────────────────────────────────┼────────────────────────┼───────────────┤\n",
              "│ dense_1 (<span style=\"color: #0087ff; text-decoration-color: #0087ff\">Dense</span>)                 │ (<span style=\"color: #00d7ff; text-decoration-color: #00d7ff\">None</span>, <span style=\"color: #00af00; text-decoration-color: #00af00\">9</span>)              │         <span style=\"color: #00af00; text-decoration-color: #00af00\">9,225</span> │\n",
              "└─────────────────────────────────┴────────────────────────┴───────────────┘\n",
              "</pre>\n"
            ]
          },
          "metadata": {}
        },
        {
          "output_type": "display_data",
          "data": {
            "text/plain": [
              "\u001b[1m Total params: \u001b[0m\u001b[38;5;34m23,910,185\u001b[0m (91.21 MB)\n"
            ],
            "text/html": [
              "<pre style=\"white-space:pre;overflow-x:auto;line-height:normal;font-family:Menlo,'DejaVu Sans Mono',consolas,'Courier New',monospace\"><span style=\"font-weight: bold\"> Total params: </span><span style=\"color: #00af00; text-decoration-color: #00af00\">23,910,185</span> (91.21 MB)\n",
              "</pre>\n"
            ]
          },
          "metadata": {}
        },
        {
          "output_type": "display_data",
          "data": {
            "text/plain": [
              "\u001b[1m Trainable params: \u001b[0m\u001b[38;5;34m2,107,401\u001b[0m (8.04 MB)\n"
            ],
            "text/html": [
              "<pre style=\"white-space:pre;overflow-x:auto;line-height:normal;font-family:Menlo,'DejaVu Sans Mono',consolas,'Courier New',monospace\"><span style=\"font-weight: bold\"> Trainable params: </span><span style=\"color: #00af00; text-decoration-color: #00af00\">2,107,401</span> (8.04 MB)\n",
              "</pre>\n"
            ]
          },
          "metadata": {}
        },
        {
          "output_type": "display_data",
          "data": {
            "text/plain": [
              "\u001b[1m Non-trainable params: \u001b[0m\u001b[38;5;34m21,802,784\u001b[0m (83.17 MB)\n"
            ],
            "text/html": [
              "<pre style=\"white-space:pre;overflow-x:auto;line-height:normal;font-family:Menlo,'DejaVu Sans Mono',consolas,'Courier New',monospace\"><span style=\"font-weight: bold\"> Non-trainable params: </span><span style=\"color: #00af00; text-decoration-color: #00af00\">21,802,784</span> (83.17 MB)\n",
              "</pre>\n"
            ]
          },
          "metadata": {}
        }
      ]
    },
    {
      "cell_type": "code",
      "source": [
        "# Option 1: Save as H5\n",
        "model.save(\"retinal_model.h5\")\n",
        "\n",
        "\n"
      ],
      "metadata": {
        "colab": {
          "base_uri": "https://localhost:8080/"
        },
        "id": "Z3GRoPHtbAHk",
        "outputId": "d868eed4-e4d3-4852-8158-40f30ed5d152"
      },
      "execution_count": null,
      "outputs": [
        {
          "output_type": "stream",
          "name": "stderr",
          "text": [
            "WARNING:absl:You are saving your model as an HDF5 file via `model.save()` or `keras.saving.save_model(model)`. This file format is considered legacy. We recommend using instead the native Keras format, e.g. `model.save('my_model.keras')` or `keras.saving.save_model(model, 'my_model.keras')`. \n"
          ]
        }
      ]
    },
    {
      "cell_type": "code",
      "source": [
        "from tensorflow import keras\n",
        "\n",
        "# Load your old .h5 model\n",
        "old_model = keras.models.load_model(\"retinal_model.h5\", compile=False)\n",
        "\n",
        "# ✅ Export as TensorFlow SavedModel\n",
        "old_model.export(\"retinal_model_saved\")\n",
        "\n",
        "print(\"✅ Model converted to SavedModel format\")\n"
      ],
      "metadata": {
        "colab": {
          "base_uri": "https://localhost:8080/"
        },
        "id": "BOj_fEaNhCWo",
        "outputId": "7d6ddad4-ef67-4cb0-9c4c-199c115a76ee"
      },
      "execution_count": null,
      "outputs": [
        {
          "output_type": "stream",
          "name": "stdout",
          "text": [
            "Saved artifact at 'retinal_model_saved'. The following endpoints are available:\n",
            "\n",
            "* Endpoint 'serve'\n",
            "  args_0 (POSITIONAL_ONLY): TensorSpec(shape=(None, 224, 224, 3), dtype=tf.float32, name='input_layer_1')\n",
            "Output Type:\n",
            "  TensorSpec(shape=(None, 9), dtype=tf.float32, name=None)\n",
            "Captures:\n",
            "  133799502551504: TensorSpec(shape=(), dtype=tf.resource, name=None)\n",
            "  133799901750928: TensorSpec(shape=(), dtype=tf.resource, name=None)\n",
            "  133799901748048: TensorSpec(shape=(), dtype=tf.resource, name=None)\n",
            "  133799901750160: TensorSpec(shape=(), dtype=tf.resource, name=None)\n",
            "  133799901744400: TensorSpec(shape=(), dtype=tf.resource, name=None)\n",
            "  133799901751696: TensorSpec(shape=(), dtype=tf.resource, name=None)\n",
            "  133799901749584: TensorSpec(shape=(), dtype=tf.resource, name=None)\n",
            "  133799901750352: TensorSpec(shape=(), dtype=tf.resource, name=None)\n",
            "  133799901751312: TensorSpec(shape=(), dtype=tf.resource, name=None)\n",
            "  133799901752464: TensorSpec(shape=(), dtype=tf.resource, name=None)\n",
            "  133799901749200: TensorSpec(shape=(), dtype=tf.resource, name=None)\n",
            "  133799901750736: TensorSpec(shape=(), dtype=tf.resource, name=None)\n",
            "  133799901752080: TensorSpec(shape=(), dtype=tf.resource, name=None)\n",
            "  133799901753232: TensorSpec(shape=(), dtype=tf.resource, name=None)\n",
            "  133799901748240: TensorSpec(shape=(), dtype=tf.resource, name=None)\n",
            "  133799901750544: TensorSpec(shape=(), dtype=tf.resource, name=None)\n",
            "  133799901752848: TensorSpec(shape=(), dtype=tf.resource, name=None)\n",
            "  133799901754000: TensorSpec(shape=(), dtype=tf.resource, name=None)\n",
            "  133799901751504: TensorSpec(shape=(), dtype=tf.resource, name=None)\n",
            "  133799901751120: TensorSpec(shape=(), dtype=tf.resource, name=None)\n",
            "  133799901753616: TensorSpec(shape=(), dtype=tf.resource, name=None)\n",
            "  133799901754768: TensorSpec(shape=(), dtype=tf.resource, name=None)\n",
            "  133799901752272: TensorSpec(shape=(), dtype=tf.resource, name=None)\n",
            "  133799901751888: TensorSpec(shape=(), dtype=tf.resource, name=None)\n",
            "  133799901754960: TensorSpec(shape=(), dtype=tf.resource, name=None)\n",
            "  133799901754384: TensorSpec(shape=(), dtype=tf.resource, name=None)\n",
            "  133799901755920: TensorSpec(shape=(), dtype=tf.resource, name=None)\n",
            "  133799901756112: TensorSpec(shape=(), dtype=tf.resource, name=None)\n",
            "  133799901755344: TensorSpec(shape=(), dtype=tf.resource, name=None)\n",
            "  133799901755728: TensorSpec(shape=(), dtype=tf.resource, name=None)\n",
            "  133799901755152: TensorSpec(shape=(), dtype=tf.resource, name=None)\n",
            "  133799901754576: TensorSpec(shape=(), dtype=tf.resource, name=None)\n",
            "  133799901757264: TensorSpec(shape=(), dtype=tf.resource, name=None)\n",
            "  133799901757072: TensorSpec(shape=(), dtype=tf.resource, name=None)\n",
            "  133799901756496: TensorSpec(shape=(), dtype=tf.resource, name=None)\n",
            "  133799901753424: TensorSpec(shape=(), dtype=tf.resource, name=None)\n",
            "  133799888537168: TensorSpec(shape=(), dtype=tf.resource, name=None)\n",
            "  133799888537360: TensorSpec(shape=(), dtype=tf.resource, name=None)\n",
            "  133799888536976: TensorSpec(shape=(), dtype=tf.resource, name=None)\n",
            "  133799901755536: TensorSpec(shape=(), dtype=tf.resource, name=None)\n",
            "  133799888536784: TensorSpec(shape=(), dtype=tf.resource, name=None)\n",
            "  133799901756688: TensorSpec(shape=(), dtype=tf.resource, name=None)\n",
            "  133799901752656: TensorSpec(shape=(), dtype=tf.resource, name=None)\n",
            "  133799901753808: TensorSpec(shape=(), dtype=tf.resource, name=None)\n",
            "  133799901756880: TensorSpec(shape=(), dtype=tf.resource, name=None)\n",
            "  133799901756304: TensorSpec(shape=(), dtype=tf.resource, name=None)\n",
            "  133799901754192: TensorSpec(shape=(), dtype=tf.resource, name=None)\n",
            "  133799901753040: TensorSpec(shape=(), dtype=tf.resource, name=None)\n",
            "  133799888535632: TensorSpec(shape=(), dtype=tf.resource, name=None)\n",
            "  133799888538320: TensorSpec(shape=(), dtype=tf.resource, name=None)\n",
            "  133799888535824: TensorSpec(shape=(), dtype=tf.resource, name=None)\n",
            "  133799888536400: TensorSpec(shape=(), dtype=tf.resource, name=None)\n",
            "  133799888538512: TensorSpec(shape=(), dtype=tf.resource, name=None)\n",
            "  133799888537936: TensorSpec(shape=(), dtype=tf.resource, name=None)\n",
            "  133799888539472: TensorSpec(shape=(), dtype=tf.resource, name=None)\n",
            "  133799888539664: TensorSpec(shape=(), dtype=tf.resource, name=None)\n",
            "  133799888538896: TensorSpec(shape=(), dtype=tf.resource, name=None)\n",
            "  133799888539280: TensorSpec(shape=(), dtype=tf.resource, name=None)\n",
            "  133799888538704: TensorSpec(shape=(), dtype=tf.resource, name=None)\n",
            "  133799888538128: TensorSpec(shape=(), dtype=tf.resource, name=None)\n",
            "  133799888540816: TensorSpec(shape=(), dtype=tf.resource, name=None)\n",
            "  133799888540624: TensorSpec(shape=(), dtype=tf.resource, name=None)\n",
            "  133799888540048: TensorSpec(shape=(), dtype=tf.resource, name=None)\n",
            "  133799888536208: TensorSpec(shape=(), dtype=tf.resource, name=None)\n",
            "  133799888542544: TensorSpec(shape=(), dtype=tf.resource, name=None)\n",
            "  133799888542736: TensorSpec(shape=(), dtype=tf.resource, name=None)\n",
            "  133799888542352: TensorSpec(shape=(), dtype=tf.resource, name=None)\n",
            "  133799888541968: TensorSpec(shape=(), dtype=tf.resource, name=None)\n",
            "  133799888542160: TensorSpec(shape=(), dtype=tf.resource, name=None)\n",
            "  133799888541776: TensorSpec(shape=(), dtype=tf.resource, name=None)\n",
            "  133799888541392: TensorSpec(shape=(), dtype=tf.resource, name=None)\n",
            "  133799888541584: TensorSpec(shape=(), dtype=tf.resource, name=None)\n",
            "  133799888540432: TensorSpec(shape=(), dtype=tf.resource, name=None)\n",
            "  133799888541200: TensorSpec(shape=(), dtype=tf.resource, name=None)\n",
            "  133799888540240: TensorSpec(shape=(), dtype=tf.resource, name=None)\n",
            "  133799888539856: TensorSpec(shape=(), dtype=tf.resource, name=None)\n",
            "  133799888541008: TensorSpec(shape=(), dtype=tf.resource, name=None)\n",
            "  133799888543696: TensorSpec(shape=(), dtype=tf.resource, name=None)\n",
            "  133799888537744: TensorSpec(shape=(), dtype=tf.resource, name=None)\n",
            "  133799888536016: TensorSpec(shape=(), dtype=tf.resource, name=None)\n",
            "  133799888543888: TensorSpec(shape=(), dtype=tf.resource, name=None)\n",
            "  133799888543312: TensorSpec(shape=(), dtype=tf.resource, name=None)\n",
            "  133799888544848: TensorSpec(shape=(), dtype=tf.resource, name=None)\n",
            "  133799888545040: TensorSpec(shape=(), dtype=tf.resource, name=None)\n",
            "  133799888544272: TensorSpec(shape=(), dtype=tf.resource, name=None)\n",
            "  133799888544656: TensorSpec(shape=(), dtype=tf.resource, name=None)\n",
            "  133799888544080: TensorSpec(shape=(), dtype=tf.resource, name=None)\n",
            "  133799888543504: TensorSpec(shape=(), dtype=tf.resource, name=None)\n",
            "  133799888546192: TensorSpec(shape=(), dtype=tf.resource, name=None)\n",
            "  133799888546000: TensorSpec(shape=(), dtype=tf.resource, name=None)\n",
            "  133799888545424: TensorSpec(shape=(), dtype=tf.resource, name=None)\n",
            "  133799888536592: TensorSpec(shape=(), dtype=tf.resource, name=None)\n",
            "  133799888547920: TensorSpec(shape=(), dtype=tf.resource, name=None)\n",
            "  133799888548112: TensorSpec(shape=(), dtype=tf.resource, name=None)\n",
            "  133799888547728: TensorSpec(shape=(), dtype=tf.resource, name=None)\n",
            "  133799888547344: TensorSpec(shape=(), dtype=tf.resource, name=None)\n",
            "  133799888547536: TensorSpec(shape=(), dtype=tf.resource, name=None)\n",
            "  133799888547152: TensorSpec(shape=(), dtype=tf.resource, name=None)\n",
            "  133799888546768: TensorSpec(shape=(), dtype=tf.resource, name=None)\n",
            "  133799888546960: TensorSpec(shape=(), dtype=tf.resource, name=None)\n",
            "  133799888545808: TensorSpec(shape=(), dtype=tf.resource, name=None)\n",
            "  133799888546576: TensorSpec(shape=(), dtype=tf.resource, name=None)\n",
            "  133799888545616: TensorSpec(shape=(), dtype=tf.resource, name=None)\n",
            "  133799888545232: TensorSpec(shape=(), dtype=tf.resource, name=None)\n",
            "  133799888546384: TensorSpec(shape=(), dtype=tf.resource, name=None)\n",
            "  133799888549072: TensorSpec(shape=(), dtype=tf.resource, name=None)\n",
            "  133799888543120: TensorSpec(shape=(), dtype=tf.resource, name=None)\n",
            "  133799888539088: TensorSpec(shape=(), dtype=tf.resource, name=None)\n",
            "  133799888548688: TensorSpec(shape=(), dtype=tf.resource, name=None)\n",
            "  133799888549840: TensorSpec(shape=(), dtype=tf.resource, name=None)\n",
            "  133799888542928: TensorSpec(shape=(), dtype=tf.resource, name=None)\n",
            "  133799888548304: TensorSpec(shape=(), dtype=tf.resource, name=None)\n",
            "  133799888550032: TensorSpec(shape=(), dtype=tf.resource, name=None)\n",
            "  133799888549456: TensorSpec(shape=(), dtype=tf.resource, name=None)\n",
            "  133799888550992: TensorSpec(shape=(), dtype=tf.resource, name=None)\n",
            "  133799888551184: TensorSpec(shape=(), dtype=tf.resource, name=None)\n",
            "  133799888550416: TensorSpec(shape=(), dtype=tf.resource, name=None)\n",
            "  133799888550800: TensorSpec(shape=(), dtype=tf.resource, name=None)\n",
            "  133799888550224: TensorSpec(shape=(), dtype=tf.resource, name=None)\n",
            "  133799888549648: TensorSpec(shape=(), dtype=tf.resource, name=None)\n",
            "  133799888548496: TensorSpec(shape=(), dtype=tf.resource, name=None)\n",
            "  133799888537552: TensorSpec(shape=(), dtype=tf.resource, name=None)\n",
            "  133799888549264: TensorSpec(shape=(), dtype=tf.resource, name=None)\n",
            "  133799888551760: TensorSpec(shape=(), dtype=tf.resource, name=None)\n",
            "  133799888548880: TensorSpec(shape=(), dtype=tf.resource, name=None)\n",
            "  133799888550608: TensorSpec(shape=(), dtype=tf.resource, name=None)\n",
            "  133799888544464: TensorSpec(shape=(), dtype=tf.resource, name=None)\n",
            "  133799888551376: TensorSpec(shape=(), dtype=tf.resource, name=None)\n",
            "  133799889273104: TensorSpec(shape=(), dtype=tf.resource, name=None)\n",
            "  133799888551568: TensorSpec(shape=(), dtype=tf.resource, name=None)\n",
            "  133799889275024: TensorSpec(shape=(), dtype=tf.resource, name=None)\n",
            "  133799889275216: TensorSpec(shape=(), dtype=tf.resource, name=None)\n",
            "  133799889274064: TensorSpec(shape=(), dtype=tf.resource, name=None)\n",
            "  133799889274832: TensorSpec(shape=(), dtype=tf.resource, name=None)\n",
            "  133799889274256: TensorSpec(shape=(), dtype=tf.resource, name=None)\n",
            "  133799889273680: TensorSpec(shape=(), dtype=tf.resource, name=None)\n",
            "  133799889275600: TensorSpec(shape=(), dtype=tf.resource, name=None)\n",
            "  133799889273488: TensorSpec(shape=(), dtype=tf.resource, name=None)\n",
            "  133799889276560: TensorSpec(shape=(), dtype=tf.resource, name=None)\n",
            "  133799889276752: TensorSpec(shape=(), dtype=tf.resource, name=None)\n",
            "  133799889275984: TensorSpec(shape=(), dtype=tf.resource, name=None)\n",
            "  133799889276368: TensorSpec(shape=(), dtype=tf.resource, name=None)\n",
            "  133799889275792: TensorSpec(shape=(), dtype=tf.resource, name=None)\n",
            "  133799889273296: TensorSpec(shape=(), dtype=tf.resource, name=None)\n",
            "  133799889277904: TensorSpec(shape=(), dtype=tf.resource, name=None)\n",
            "  133799889277712: TensorSpec(shape=(), dtype=tf.resource, name=None)\n",
            "  133799889277136: TensorSpec(shape=(), dtype=tf.resource, name=None)\n",
            "  133799889275408: TensorSpec(shape=(), dtype=tf.resource, name=None)\n",
            "  133799889279632: TensorSpec(shape=(), dtype=tf.resource, name=None)\n",
            "  133799889279824: TensorSpec(shape=(), dtype=tf.resource, name=None)\n",
            "  133799889279440: TensorSpec(shape=(), dtype=tf.resource, name=None)\n",
            "  133799889279056: TensorSpec(shape=(), dtype=tf.resource, name=None)\n",
            "  133799889279248: TensorSpec(shape=(), dtype=tf.resource, name=None)\n",
            "  133799889278864: TensorSpec(shape=(), dtype=tf.resource, name=None)\n",
            "  133799889278480: TensorSpec(shape=(), dtype=tf.resource, name=None)\n",
            "  133799889278672: TensorSpec(shape=(), dtype=tf.resource, name=None)\n",
            "  133799889277520: TensorSpec(shape=(), dtype=tf.resource, name=None)\n",
            "  133799889278288: TensorSpec(shape=(), dtype=tf.resource, name=None)\n",
            "  133799889277328: TensorSpec(shape=(), dtype=tf.resource, name=None)\n",
            "  133799889276944: TensorSpec(shape=(), dtype=tf.resource, name=None)\n",
            "  133799889278096: TensorSpec(shape=(), dtype=tf.resource, name=None)\n",
            "  133799889280784: TensorSpec(shape=(), dtype=tf.resource, name=None)\n",
            "  133799889274448: TensorSpec(shape=(), dtype=tf.resource, name=None)\n",
            "  133799889273872: TensorSpec(shape=(), dtype=tf.resource, name=None)\n",
            "  133799889280400: TensorSpec(shape=(), dtype=tf.resource, name=None)\n",
            "  133799889281552: TensorSpec(shape=(), dtype=tf.resource, name=None)\n",
            "  133799889272912: TensorSpec(shape=(), dtype=tf.resource, name=None)\n",
            "  133799889280016: TensorSpec(shape=(), dtype=tf.resource, name=None)\n",
            "  133799889281744: TensorSpec(shape=(), dtype=tf.resource, name=None)\n",
            "  133799889281168: TensorSpec(shape=(), dtype=tf.resource, name=None)\n",
            "  133799889282704: TensorSpec(shape=(), dtype=tf.resource, name=None)\n",
            "  133799889282896: TensorSpec(shape=(), dtype=tf.resource, name=None)\n",
            "  133799889282128: TensorSpec(shape=(), dtype=tf.resource, name=None)\n",
            "  133799889282512: TensorSpec(shape=(), dtype=tf.resource, name=None)\n",
            "  133799889281936: TensorSpec(shape=(), dtype=tf.resource, name=None)\n",
            "  133799889281360: TensorSpec(shape=(), dtype=tf.resource, name=None)\n",
            "  133799889283280: TensorSpec(shape=(), dtype=tf.resource, name=None)\n",
            "  133799889280208: TensorSpec(shape=(), dtype=tf.resource, name=None)\n",
            "  133799889284240: TensorSpec(shape=(), dtype=tf.resource, name=None)\n",
            "  133799889284432: TensorSpec(shape=(), dtype=tf.resource, name=None)\n",
            "  133799889283664: TensorSpec(shape=(), dtype=tf.resource, name=None)\n",
            "  133799889284048: TensorSpec(shape=(), dtype=tf.resource, name=None)\n",
            "  133799889283472: TensorSpec(shape=(), dtype=tf.resource, name=None)\n",
            "  133799889282320: TensorSpec(shape=(), dtype=tf.resource, name=None)\n",
            "  133799889285584: TensorSpec(shape=(), dtype=tf.resource, name=None)\n",
            "  133799889285392: TensorSpec(shape=(), dtype=tf.resource, name=None)\n",
            "  133799889284816: TensorSpec(shape=(), dtype=tf.resource, name=None)\n",
            "  133799889283088: TensorSpec(shape=(), dtype=tf.resource, name=None)\n",
            "  133799889287312: TensorSpec(shape=(), dtype=tf.resource, name=None)\n",
            "  133799889287504: TensorSpec(shape=(), dtype=tf.resource, name=None)\n",
            "  133799889287120: TensorSpec(shape=(), dtype=tf.resource, name=None)\n",
            "  133799889286736: TensorSpec(shape=(), dtype=tf.resource, name=None)\n",
            "  133799889286928: TensorSpec(shape=(), dtype=tf.resource, name=None)\n",
            "  133799889286544: TensorSpec(shape=(), dtype=tf.resource, name=None)\n",
            "  133799889286160: TensorSpec(shape=(), dtype=tf.resource, name=None)\n",
            "  133799889286352: TensorSpec(shape=(), dtype=tf.resource, name=None)\n",
            "  133799889285200: TensorSpec(shape=(), dtype=tf.resource, name=None)\n",
            "  133799889285968: TensorSpec(shape=(), dtype=tf.resource, name=None)\n",
            "  133799889285008: TensorSpec(shape=(), dtype=tf.resource, name=None)\n",
            "  133799889284624: TensorSpec(shape=(), dtype=tf.resource, name=None)\n",
            "  133799889285776: TensorSpec(shape=(), dtype=tf.resource, name=None)\n",
            "  133799889288464: TensorSpec(shape=(), dtype=tf.resource, name=None)\n",
            "  133799889276176: TensorSpec(shape=(), dtype=tf.resource, name=None)\n",
            "  133799889274640: TensorSpec(shape=(), dtype=tf.resource, name=None)\n",
            "  133799889288080: TensorSpec(shape=(), dtype=tf.resource, name=None)\n",
            "  133799889280976: TensorSpec(shape=(), dtype=tf.resource, name=None)\n",
            "  133799889280592: TensorSpec(shape=(), dtype=tf.resource, name=None)\n",
            "  133799889289040: TensorSpec(shape=(), dtype=tf.resource, name=None)\n",
            "  133799889287696: TensorSpec(shape=(), dtype=tf.resource, name=None)\n",
            "  133799889287888: TensorSpec(shape=(), dtype=tf.resource, name=None)\n",
            "  133799889585168: TensorSpec(shape=(), dtype=tf.resource, name=None)\n",
            "  133799889584592: TensorSpec(shape=(), dtype=tf.resource, name=None)\n",
            "  133799889288848: TensorSpec(shape=(), dtype=tf.resource, name=None)\n",
            "  133799889283856: TensorSpec(shape=(), dtype=tf.resource, name=None)\n",
            "  133799889288272: TensorSpec(shape=(), dtype=tf.resource, name=None)\n",
            "  133799889288656: TensorSpec(shape=(), dtype=tf.resource, name=None)\n",
            "  133799889585936: TensorSpec(shape=(), dtype=tf.resource, name=None)\n",
            "  133799889584208: TensorSpec(shape=(), dtype=tf.resource, name=None)\n",
            "  133799889586896: TensorSpec(shape=(), dtype=tf.resource, name=None)\n",
            "  133799889587088: TensorSpec(shape=(), dtype=tf.resource, name=None)\n",
            "  133799889586320: TensorSpec(shape=(), dtype=tf.resource, name=None)\n",
            "  133799889586704: TensorSpec(shape=(), dtype=tf.resource, name=None)\n",
            "  133799889586128: TensorSpec(shape=(), dtype=tf.resource, name=None)\n",
            "  133799889584400: TensorSpec(shape=(), dtype=tf.resource, name=None)\n",
            "  133799889588240: TensorSpec(shape=(), dtype=tf.resource, name=None)\n",
            "  133799889588048: TensorSpec(shape=(), dtype=tf.resource, name=None)\n",
            "  133799889587472: TensorSpec(shape=(), dtype=tf.resource, name=None)\n",
            "  133799889585744: TensorSpec(shape=(), dtype=tf.resource, name=None)\n",
            "  133799889589968: TensorSpec(shape=(), dtype=tf.resource, name=None)\n",
            "  133799889590160: TensorSpec(shape=(), dtype=tf.resource, name=None)\n",
            "  133799889589776: TensorSpec(shape=(), dtype=tf.resource, name=None)\n",
            "  133799889589392: TensorSpec(shape=(), dtype=tf.resource, name=None)\n",
            "  133799889589584: TensorSpec(shape=(), dtype=tf.resource, name=None)\n",
            "  133799889589200: TensorSpec(shape=(), dtype=tf.resource, name=None)\n",
            "  133799889588816: TensorSpec(shape=(), dtype=tf.resource, name=None)\n",
            "  133799889589008: TensorSpec(shape=(), dtype=tf.resource, name=None)\n",
            "  133799889587856: TensorSpec(shape=(), dtype=tf.resource, name=None)\n",
            "  133799889588624: TensorSpec(shape=(), dtype=tf.resource, name=None)\n",
            "  133799889587664: TensorSpec(shape=(), dtype=tf.resource, name=None)\n",
            "  133799889587280: TensorSpec(shape=(), dtype=tf.resource, name=None)\n",
            "  133799889588432: TensorSpec(shape=(), dtype=tf.resource, name=None)\n",
            "  133799889591120: TensorSpec(shape=(), dtype=tf.resource, name=None)\n",
            "  133799889585552: TensorSpec(shape=(), dtype=tf.resource, name=None)\n",
            "  133799889584784: TensorSpec(shape=(), dtype=tf.resource, name=None)\n",
            "  133799889590736: TensorSpec(shape=(), dtype=tf.resource, name=None)\n",
            "  133799889591888: TensorSpec(shape=(), dtype=tf.resource, name=None)\n",
            "  133799889584976: TensorSpec(shape=(), dtype=tf.resource, name=None)\n",
            "  133799889590352: TensorSpec(shape=(), dtype=tf.resource, name=None)\n",
            "  133799889592080: TensorSpec(shape=(), dtype=tf.resource, name=None)\n",
            "  133799889591504: TensorSpec(shape=(), dtype=tf.resource, name=None)\n",
            "  133799889593040: TensorSpec(shape=(), dtype=tf.resource, name=None)\n",
            "  133799889593232: TensorSpec(shape=(), dtype=tf.resource, name=None)\n",
            "  133799889592464: TensorSpec(shape=(), dtype=tf.resource, name=None)\n",
            "  133799889592848: TensorSpec(shape=(), dtype=tf.resource, name=None)\n",
            "  133799889592272: TensorSpec(shape=(), dtype=tf.resource, name=None)\n",
            "  133799889591696: TensorSpec(shape=(), dtype=tf.resource, name=None)\n",
            "  133799889593616: TensorSpec(shape=(), dtype=tf.resource, name=None)\n",
            "  133799889590544: TensorSpec(shape=(), dtype=tf.resource, name=None)\n",
            "  133799889594576: TensorSpec(shape=(), dtype=tf.resource, name=None)\n",
            "  133799889594768: TensorSpec(shape=(), dtype=tf.resource, name=None)\n",
            "  133799889594000: TensorSpec(shape=(), dtype=tf.resource, name=None)\n",
            "  133799889594384: TensorSpec(shape=(), dtype=tf.resource, name=None)\n",
            "  133799889593808: TensorSpec(shape=(), dtype=tf.resource, name=None)\n",
            "  133799889592656: TensorSpec(shape=(), dtype=tf.resource, name=None)\n",
            "  133799889595920: TensorSpec(shape=(), dtype=tf.resource, name=None)\n",
            "  133799889595728: TensorSpec(shape=(), dtype=tf.resource, name=None)\n",
            "  133799889595152: TensorSpec(shape=(), dtype=tf.resource, name=None)\n",
            "  133799889593424: TensorSpec(shape=(), dtype=tf.resource, name=None)\n",
            "  133799889597648: TensorSpec(shape=(), dtype=tf.resource, name=None)\n",
            "  133799889597840: TensorSpec(shape=(), dtype=tf.resource, name=None)\n",
            "  133799889597456: TensorSpec(shape=(), dtype=tf.resource, name=None)\n",
            "  133799889597072: TensorSpec(shape=(), dtype=tf.resource, name=None)\n",
            "  133799889597264: TensorSpec(shape=(), dtype=tf.resource, name=None)\n",
            "  133799889596880: TensorSpec(shape=(), dtype=tf.resource, name=None)\n",
            "  133799889596496: TensorSpec(shape=(), dtype=tf.resource, name=None)\n",
            "  133799889596688: TensorSpec(shape=(), dtype=tf.resource, name=None)\n",
            "  133799889595536: TensorSpec(shape=(), dtype=tf.resource, name=None)\n",
            "  133799889596304: TensorSpec(shape=(), dtype=tf.resource, name=None)\n",
            "  133799889595344: TensorSpec(shape=(), dtype=tf.resource, name=None)\n",
            "  133799889594960: TensorSpec(shape=(), dtype=tf.resource, name=None)\n",
            "  133799889596112: TensorSpec(shape=(), dtype=tf.resource, name=None)\n",
            "  133799889598800: TensorSpec(shape=(), dtype=tf.resource, name=None)\n",
            "  133799889586512: TensorSpec(shape=(), dtype=tf.resource, name=None)\n",
            "  133799889585360: TensorSpec(shape=(), dtype=tf.resource, name=None)\n",
            "  133799889598416: TensorSpec(shape=(), dtype=tf.resource, name=None)\n",
            "  133799889599568: TensorSpec(shape=(), dtype=tf.resource, name=None)\n",
            "  133799889590928: TensorSpec(shape=(), dtype=tf.resource, name=None)\n",
            "  133799889598032: TensorSpec(shape=(), dtype=tf.resource, name=None)\n",
            "  133799889599760: TensorSpec(shape=(), dtype=tf.resource, name=None)\n",
            "  133799889599184: TensorSpec(shape=(), dtype=tf.resource, name=None)\n",
            "  133799889600144: TensorSpec(shape=(), dtype=tf.resource, name=None)\n",
            "  133799889598608: TensorSpec(shape=(), dtype=tf.resource, name=None)\n",
            "  133799889598224: TensorSpec(shape=(), dtype=tf.resource, name=None)\n",
            "  133799889591312: TensorSpec(shape=(), dtype=tf.resource, name=None)\n",
            "  133799889599952: TensorSpec(shape=(), dtype=tf.resource, name=None)\n",
            "  133799889598992: TensorSpec(shape=(), dtype=tf.resource, name=None)\n",
            "  133799889600336: TensorSpec(shape=(), dtype=tf.resource, name=None)\n",
            "  133799889594192: TensorSpec(shape=(), dtype=tf.resource, name=None)\n",
            "  133799890142992: TensorSpec(shape=(), dtype=tf.resource, name=None)\n",
            "  133799890143184: TensorSpec(shape=(), dtype=tf.resource, name=None)\n",
            "  133799890142800: TensorSpec(shape=(), dtype=tf.resource, name=None)\n",
            "  133799890141648: TensorSpec(shape=(), dtype=tf.resource, name=None)\n",
            "  133799890142608: TensorSpec(shape=(), dtype=tf.resource, name=None)\n",
            "  133799889599376: TensorSpec(shape=(), dtype=tf.resource, name=None)\n",
            "  133799890141456: TensorSpec(shape=(), dtype=tf.resource, name=None)\n",
            "  133799890144144: TensorSpec(shape=(), dtype=tf.resource, name=None)\n",
            "  133799890142224: TensorSpec(shape=(), dtype=tf.resource, name=None)\n",
            "  133799890142032: TensorSpec(shape=(), dtype=tf.resource, name=None)\n",
            "  133799890144336: TensorSpec(shape=(), dtype=tf.resource, name=None)\n",
            "  133799890143760: TensorSpec(shape=(), dtype=tf.resource, name=None)\n",
            "  133799890145296: TensorSpec(shape=(), dtype=tf.resource, name=None)\n",
            "  133799890145488: TensorSpec(shape=(), dtype=tf.resource, name=None)\n",
            "  133799890144720: TensorSpec(shape=(), dtype=tf.resource, name=None)\n",
            "  133799890145104: TensorSpec(shape=(), dtype=tf.resource, name=None)\n",
            "  133799890144528: TensorSpec(shape=(), dtype=tf.resource, name=None)\n",
            "  133799890143952: TensorSpec(shape=(), dtype=tf.resource, name=None)\n",
            "  133799890146640: TensorSpec(shape=(), dtype=tf.resource, name=None)\n",
            "  133799890146448: TensorSpec(shape=(), dtype=tf.resource, name=None)\n",
            "  133799890145872: TensorSpec(shape=(), dtype=tf.resource, name=None)\n",
            "  133799890142416: TensorSpec(shape=(), dtype=tf.resource, name=None)\n",
            "  133799890147024: TensorSpec(shape=(), dtype=tf.resource, name=None)\n",
            "  133799890148560: TensorSpec(shape=(), dtype=tf.resource, name=None)\n",
            "  133799890148752: TensorSpec(shape=(), dtype=tf.resource, name=None)\n",
            "  133799890148368: TensorSpec(shape=(), dtype=tf.resource, name=None)\n",
            "  133799890147984: TensorSpec(shape=(), dtype=tf.resource, name=None)\n",
            "  133799890148176: TensorSpec(shape=(), dtype=tf.resource, name=None)\n",
            "  133799890147792: TensorSpec(shape=(), dtype=tf.resource, name=None)\n",
            "  133799890147408: TensorSpec(shape=(), dtype=tf.resource, name=None)\n",
            "  133799890147600: TensorSpec(shape=(), dtype=tf.resource, name=None)\n",
            "  133799890141840: TensorSpec(shape=(), dtype=tf.resource, name=None)\n",
            "  133799890147216: TensorSpec(shape=(), dtype=tf.resource, name=None)\n",
            "  133799890143568: TensorSpec(shape=(), dtype=tf.resource, name=None)\n",
            "  133799890141264: TensorSpec(shape=(), dtype=tf.resource, name=None)\n",
            "  133799890146832: TensorSpec(shape=(), dtype=tf.resource, name=None)\n",
            "  133799890149904: TensorSpec(shape=(), dtype=tf.resource, name=None)\n",
            "  133799890150096: TensorSpec(shape=(), dtype=tf.resource, name=None)\n",
            "  133799890146256: TensorSpec(shape=(), dtype=tf.resource, name=None)\n",
            "  133799890149712: TensorSpec(shape=(), dtype=tf.resource, name=None)\n",
            "  133799890146064: TensorSpec(shape=(), dtype=tf.resource, name=None)\n",
            "  133799890144912: TensorSpec(shape=(), dtype=tf.resource, name=None)\n",
            "  133799890145680: TensorSpec(shape=(), dtype=tf.resource, name=None)\n",
            "  133799890151056: TensorSpec(shape=(), dtype=tf.resource, name=None)\n",
            "  133799890149520: TensorSpec(shape=(), dtype=tf.resource, name=None)\n",
            "  133799890143376: TensorSpec(shape=(), dtype=tf.resource, name=None)\n",
            "  133799890151248: TensorSpec(shape=(), dtype=tf.resource, name=None)\n",
            "  133799890150672: TensorSpec(shape=(), dtype=tf.resource, name=None)\n",
            "  133799890152208: TensorSpec(shape=(), dtype=tf.resource, name=None)\n",
            "  133799890152400: TensorSpec(shape=(), dtype=tf.resource, name=None)\n",
            "  133799890151632: TensorSpec(shape=(), dtype=tf.resource, name=None)\n",
            "  133799890152016: TensorSpec(shape=(), dtype=tf.resource, name=None)\n",
            "  133799890151440: TensorSpec(shape=(), dtype=tf.resource, name=None)\n",
            "  133799890150864: TensorSpec(shape=(), dtype=tf.resource, name=None)\n",
            "  133799890153552: TensorSpec(shape=(), dtype=tf.resource, name=None)\n",
            "  133799890153360: TensorSpec(shape=(), dtype=tf.resource, name=None)\n",
            "  133799890152784: TensorSpec(shape=(), dtype=tf.resource, name=None)\n",
            "  133799890149328: TensorSpec(shape=(), dtype=tf.resource, name=None)\n",
            "  133799890153936: TensorSpec(shape=(), dtype=tf.resource, name=None)\n",
            "  133799890155472: TensorSpec(shape=(), dtype=tf.resource, name=None)\n",
            "  133799890155664: TensorSpec(shape=(), dtype=tf.resource, name=None)\n",
            "  133799890155280: TensorSpec(shape=(), dtype=tf.resource, name=None)\n",
            "  133799890154896: TensorSpec(shape=(), dtype=tf.resource, name=None)\n",
            "  133799890155088: TensorSpec(shape=(), dtype=tf.resource, name=None)\n",
            "  133799890154704: TensorSpec(shape=(), dtype=tf.resource, name=None)\n",
            "  133799890154320: TensorSpec(shape=(), dtype=tf.resource, name=None)\n",
            "  133799890154512: TensorSpec(shape=(), dtype=tf.resource, name=None)\n",
            "  133799890148944: TensorSpec(shape=(), dtype=tf.resource, name=None)\n",
            "  133799890154128: TensorSpec(shape=(), dtype=tf.resource, name=None)\n",
            "  133799890150480: TensorSpec(shape=(), dtype=tf.resource, name=None)\n",
            "  133799890149136: TensorSpec(shape=(), dtype=tf.resource, name=None)\n",
            "  133799890153744: TensorSpec(shape=(), dtype=tf.resource, name=None)\n",
            "  133799890156816: TensorSpec(shape=(), dtype=tf.resource, name=None)\n",
            "  133799890157008: TensorSpec(shape=(), dtype=tf.resource, name=None)\n",
            "  133799890153168: TensorSpec(shape=(), dtype=tf.resource, name=None)\n",
            "  133799890156624: TensorSpec(shape=(), dtype=tf.resource, name=None)\n",
            "  133799890152976: TensorSpec(shape=(), dtype=tf.resource, name=None)\n",
            "  133799890151824: TensorSpec(shape=(), dtype=tf.resource, name=None)\n",
            "  133799890156048: TensorSpec(shape=(), dtype=tf.resource, name=None)\n",
            "  133799890156432: TensorSpec(shape=(), dtype=tf.resource, name=None)\n",
            "  133799890156240: TensorSpec(shape=(), dtype=tf.resource, name=None)\n",
            "  133799890157200: TensorSpec(shape=(), dtype=tf.resource, name=None)\n",
            "✅ Model converted to SavedModel format\n"
          ]
        }
      ]
    },
    {
      "cell_type": "code",
      "source": [
        "from google.colab import drive\n",
        "drive.mount('/content/drive')"
      ],
      "metadata": {
        "id": "2KD98ExCiYAV"
      },
      "execution_count": null,
      "outputs": []
    },
    {
      "cell_type": "code",
      "source": [
        "import shutil\n",
        "\n",
        "\n",
        "# Zip the folder\n",
        "shutil.make_archive(\"/content/retinal_model_saved\", 'zip', \"/content/retinal_model_saved\")\n"
      ],
      "metadata": {
        "colab": {
          "base_uri": "https://localhost:8080/",
          "height": 36
        },
        "id": "qM4QsfJ0i6GZ",
        "outputId": "37626e05-0fcb-4389-8428-aa79bbae0a59"
      },
      "execution_count": null,
      "outputs": [
        {
          "output_type": "execute_result",
          "data": {
            "text/plain": [
              "'/content/retinal_model_saved.zip'"
            ],
            "application/vnd.google.colaboratory.intrinsic+json": {
              "type": "string"
            }
          },
          "metadata": {},
          "execution_count": 16
        }
      ]
    }
  ]
}